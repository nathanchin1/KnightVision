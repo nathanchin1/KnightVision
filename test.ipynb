{
 "cells": [
  {
   "cell_type": "code",
   "execution_count": 1,
   "id": "54af557e-59d8-4d83-b0e9-fbf79ec04743",
   "metadata": {
    "tags": []
   },
   "outputs": [
    {
     "name": "stdout",
     "output_type": "stream",
     "text": [
      "Requirement already satisfied: chess in /Users/nathanchin57/anaconda3/lib/python3.11/site-packages (1.10.0)\n"
     ]
    }
   ],
   "source": [
    "!pip install chess\n"
   ]
  },
  {
   "cell_type": "code",
   "execution_count": 1,
   "id": "94a1d513-e219-4a4d-8b22-0c326f691bfa",
   "metadata": {
    "tags": []
   },
   "outputs": [],
   "source": [
    "import chess\n",
    "import chess.svg\n",
    "import chess.engine\n",
    "import pandas as pd\n",
    "import torch\n",
    "import torch.nn as nn\n",
    "import torch.nn.functional as F\n",
    "from torch.utils.data import Dataset, DataLoader\n",
    "from model import KnightVisionNN, KingsVisionNN2\n",
    "from preprocess import fen_to_vector, encode_moves, TopMovesDataset\n",
    "from tqdm import tqdm\n",
    "import matplotlib as plt"
   ]
  },
  {
   "cell_type": "code",
   "execution_count": 3,
   "id": "71f5b027-1cf9-4d42-8d10-73ca893f849a",
   "metadata": {
    "tags": []
   },
   "outputs": [],
   "source": [
    "engine_path = \"stockfish/stockfish-macos-x86-64-avx2\"\n",
    "engine = chess.engine.SimpleEngine.popen_uci(engine_path)"
   ]
  },
  {
   "cell_type": "code",
   "execution_count": 2,
   "id": "49ddf8b4-f8f0-4b66-b2b1-e688b4893348",
   "metadata": {
    "tags": []
   },
   "outputs": [
    {
     "data": {
      "text/html": [
       "<div>\n",
       "<style scoped>\n",
       "    .dataframe tbody tr th:only-of-type {\n",
       "        vertical-align: middle;\n",
       "    }\n",
       "\n",
       "    .dataframe tbody tr th {\n",
       "        vertical-align: top;\n",
       "    }\n",
       "\n",
       "    .dataframe thead th {\n",
       "        text-align: right;\n",
       "    }\n",
       "</style>\n",
       "<table border=\"1\" class=\"dataframe\">\n",
       "  <thead>\n",
       "    <tr style=\"text-align: right;\">\n",
       "      <th></th>\n",
       "      <th>fen</th>\n",
       "      <th>top_moves</th>\n",
       "    </tr>\n",
       "  </thead>\n",
       "  <tbody>\n",
       "    <tr>\n",
       "      <th>0</th>\n",
       "      <td>rnbqkbnr/pppppppp/8/8/4P3/8/PPPP1PPP/RNBQKBNR ...</td>\n",
       "      <td>['c7c5', 'e7e6', 'e7e5', 'c7c6', 'b8c6']</td>\n",
       "    </tr>\n",
       "    <tr>\n",
       "      <th>1</th>\n",
       "      <td>rnbqkbnr/pppp1ppp/4p3/8/4P3/8/PPPP1PPP/RNBQKBN...</td>\n",
       "      <td>['b1c3', 'd2d4', 'g1f3', 'h2h3', 'c2c3']</td>\n",
       "    </tr>\n",
       "    <tr>\n",
       "      <th>2</th>\n",
       "      <td>rnbqkbnr/pppp1ppp/4p3/8/3PP3/8/PPP2PPP/RNBQKBN...</td>\n",
       "      <td>['d7d5', 'a7a6', 'h7h6', 'b7b6', 'c7c6']</td>\n",
       "    </tr>\n",
       "    <tr>\n",
       "      <th>3</th>\n",
       "      <td>rnbqkbnr/ppp2ppp/4p3/3p4/3PP3/8/PPP2PPP/RNBQKB...</td>\n",
       "      <td>['b1d2', 'b1c3', 'e4e5', 'e4d5', 'f1b5']</td>\n",
       "    </tr>\n",
       "    <tr>\n",
       "      <th>4</th>\n",
       "      <td>rnbqkbnr/ppp2ppp/4p3/3p4/3PP3/8/PPPN1PPP/R1BQK...</td>\n",
       "      <td>['c7c5', 'f8e7', 'a7a6', 'd5e4', 'b8d7']</td>\n",
       "    </tr>\n",
       "  </tbody>\n",
       "</table>\n",
       "</div>"
      ],
      "text/plain": [
       "                                                 fen  \\\n",
       "0  rnbqkbnr/pppppppp/8/8/4P3/8/PPPP1PPP/RNBQKBNR ...   \n",
       "1  rnbqkbnr/pppp1ppp/4p3/8/4P3/8/PPPP1PPP/RNBQKBN...   \n",
       "2  rnbqkbnr/pppp1ppp/4p3/8/3PP3/8/PPP2PPP/RNBQKBN...   \n",
       "3  rnbqkbnr/ppp2ppp/4p3/3p4/3PP3/8/PPP2PPP/RNBQKB...   \n",
       "4  rnbqkbnr/ppp2ppp/4p3/3p4/3PP3/8/PPPN1PPP/R1BQK...   \n",
       "\n",
       "                                  top_moves  \n",
       "0  ['c7c5', 'e7e6', 'e7e5', 'c7c6', 'b8c6']  \n",
       "1  ['b1c3', 'd2d4', 'g1f3', 'h2h3', 'c2c3']  \n",
       "2  ['d7d5', 'a7a6', 'h7h6', 'b7b6', 'c7c6']  \n",
       "3  ['b1d2', 'b1c3', 'e4e5', 'e4d5', 'f1b5']  \n",
       "4  ['c7c5', 'f8e7', 'a7a6', 'd5e4', 'b8d7']  "
      ]
     },
     "execution_count": 2,
     "metadata": {},
     "output_type": "execute_result"
    }
   ],
   "source": [
    "data5000 = pd.read_csv(\"datasets/top_move5000.csv\")\n",
    "data5000.head()"
   ]
  },
  {
   "cell_type": "code",
   "execution_count": 3,
   "id": "60eaca7b-cce9-45a6-bd31-631b81b97ef7",
   "metadata": {
    "tags": []
   },
   "outputs": [
    {
     "data": {
      "text/plain": [
       "1633"
      ]
     },
     "execution_count": 3,
     "metadata": {},
     "output_type": "execute_result"
    }
   ],
   "source": [
    "all_moves = set()\n",
    "for top_moves in data5000['top_moves']:\n",
    "    moves = eval(top_moves) \n",
    "    all_moves.update(moves)\n",
    "move_directory = {move: idx for idx, move in enumerate(all_moves)}\n",
    "\n",
    "def encode_moves(top_moves, move_directory):\n",
    "    return [move_directory[move] for move in top_moves]\n",
    "\n",
    "data5000['EncodedMoves'] = data5000['top_moves'].apply(lambda moves: encode_moves(eval(moves), move_directory))\n",
    "data5000.head()\n",
    "len(move_directory)"
   ]
  },
  {
   "cell_type": "code",
   "execution_count": 6,
   "id": "91f5a050-9581-44e1-bbab-28c40e8e49ee",
   "metadata": {
    "tags": []
   },
   "outputs": [
    {
     "name": "stderr",
     "output_type": "stream",
     "text": [
      "Processing FENs:   6%|▋         | 13/200 [00:08<02:08,  1.45it/s]\n"
     ]
    },
    {
     "ename": "KeyboardInterrupt",
     "evalue": "",
     "output_type": "error",
     "traceback": [
      "\u001b[0;31m---------------------------------------------------------------------------\u001b[0m",
      "\u001b[0;31mKeyboardInterrupt\u001b[0m                         Traceback (most recent call last)",
      "Cell \u001b[0;32mIn[6], line 55\u001b[0m\n\u001b[1;32m     52\u001b[0m     \u001b[38;5;28;01mreturn\u001b[39;00m df_dataset\n\u001b[1;32m     54\u001b[0m csv_file \u001b[38;5;241m=\u001b[39m \u001b[38;5;124m\"\u001b[39m\u001b[38;5;124mdatasets/chess evaluations/chessData.csv\u001b[39m\u001b[38;5;124m\"\u001b[39m  \u001b[38;5;66;03m# Path to your CSV file\u001b[39;00m\n\u001b[0;32m---> 55\u001b[0m chess_data \u001b[38;5;241m=\u001b[39m create_fen_dataset_from_csv(csv_file, num_positions\u001b[38;5;241m=\u001b[39m\u001b[38;5;241m200\u001b[39m, top_x\u001b[38;5;241m=\u001b[39m\u001b[38;5;241m5\u001b[39m, depth\u001b[38;5;241m=\u001b[39m\u001b[38;5;241m15\u001b[39m)\n\u001b[1;32m     57\u001b[0m \u001b[38;5;66;03m# Display the first few rows of the dataset\u001b[39;00m\n\u001b[1;32m     58\u001b[0m \u001b[38;5;28mprint\u001b[39m(chess_data\u001b[38;5;241m.\u001b[39mhead())\n",
      "Cell \u001b[0;32mIn[6], line 46\u001b[0m, in \u001b[0;36mcreate_fen_dataset_from_csv\u001b[0;34m(csv_file, num_positions, top_x, depth)\u001b[0m\n\u001b[1;32m     44\u001b[0m \u001b[38;5;28;01mfor\u001b[39;00m fen \u001b[38;5;129;01min\u001b[39;00m tqdm(selected_fens, desc\u001b[38;5;241m=\u001b[39m\u001b[38;5;124m\"\u001b[39m\u001b[38;5;124mProcessing FENs\u001b[39m\u001b[38;5;124m\"\u001b[39m):\n\u001b[1;32m     45\u001b[0m     \u001b[38;5;28;01mtry\u001b[39;00m:\n\u001b[0;32m---> 46\u001b[0m         top_moves \u001b[38;5;241m=\u001b[39m get_top_moves(fen, top_x\u001b[38;5;241m=\u001b[39mtop_x, depth\u001b[38;5;241m=\u001b[39mdepth)\n\u001b[1;32m     47\u001b[0m         dataset\u001b[38;5;241m.\u001b[39mappend({\u001b[38;5;124m\"\u001b[39m\u001b[38;5;124mfen\u001b[39m\u001b[38;5;124m\"\u001b[39m: fen, \u001b[38;5;124m\"\u001b[39m\u001b[38;5;124mtop_moves\u001b[39m\u001b[38;5;124m\"\u001b[39m: top_moves})\n\u001b[1;32m     48\u001b[0m     \u001b[38;5;28;01mexcept\u001b[39;00m \u001b[38;5;167;01mException\u001b[39;00m \u001b[38;5;28;01mas\u001b[39;00m e:\n",
      "Cell \u001b[0;32mIn[6], line 14\u001b[0m, in \u001b[0;36mget_top_moves\u001b[0;34m(fen, top_x, depth)\u001b[0m\n\u001b[1;32m      2\u001b[0m \u001b[38;5;250m\u001b[39m\u001b[38;5;124;03m\"\"\"\u001b[39;00m\n\u001b[1;32m      3\u001b[0m \u001b[38;5;124;03mGet the top X moves for a given FEN position using Stockfish.\u001b[39;00m\n\u001b[1;32m      4\u001b[0m \u001b[38;5;124;03m\u001b[39;00m\n\u001b[0;32m   (...)\u001b[0m\n\u001b[1;32m     11\u001b[0m \u001b[38;5;124;03mlist: List of top X moves in UCI format.\u001b[39;00m\n\u001b[1;32m     12\u001b[0m \u001b[38;5;124;03m\"\"\"\u001b[39;00m\n\u001b[1;32m     13\u001b[0m board \u001b[38;5;241m=\u001b[39m chess\u001b[38;5;241m.\u001b[39mBoard(fen)\n\u001b[0;32m---> 14\u001b[0m result \u001b[38;5;241m=\u001b[39m engine\u001b[38;5;241m.\u001b[39manalyse(board, chess\u001b[38;5;241m.\u001b[39mengine\u001b[38;5;241m.\u001b[39mLimit(depth\u001b[38;5;241m=\u001b[39mdepth), multipv\u001b[38;5;241m=\u001b[39mtop_x)\n\u001b[1;32m     16\u001b[0m top_moves \u001b[38;5;241m=\u001b[39m []\n\u001b[1;32m     17\u001b[0m \u001b[38;5;28;01mfor\u001b[39;00m entry \u001b[38;5;129;01min\u001b[39;00m result:\n",
      "File \u001b[0;32m~/anaconda3/lib/python3.11/site-packages/chess/engine.py:2996\u001b[0m, in \u001b[0;36mSimpleEngine.analyse\u001b[0;34m(self, board, limit, multipv, game, info, root_moves, options)\u001b[0m\n\u001b[1;32m   2992\u001b[0m     coro \u001b[38;5;241m=\u001b[39m asyncio\u001b[38;5;241m.\u001b[39mwait_for(\n\u001b[1;32m   2993\u001b[0m         \u001b[38;5;28mself\u001b[39m\u001b[38;5;241m.\u001b[39mprotocol\u001b[38;5;241m.\u001b[39manalyse(board, limit, multipv\u001b[38;5;241m=\u001b[39mmultipv, game\u001b[38;5;241m=\u001b[39mgame, info\u001b[38;5;241m=\u001b[39minfo, root_moves\u001b[38;5;241m=\u001b[39mroot_moves, options\u001b[38;5;241m=\u001b[39moptions),\n\u001b[1;32m   2994\u001b[0m         \u001b[38;5;28mself\u001b[39m\u001b[38;5;241m.\u001b[39m_timeout_for(limit))\n\u001b[1;32m   2995\u001b[0m     future \u001b[38;5;241m=\u001b[39m asyncio\u001b[38;5;241m.\u001b[39mrun_coroutine_threadsafe(coro, \u001b[38;5;28mself\u001b[39m\u001b[38;5;241m.\u001b[39mprotocol\u001b[38;5;241m.\u001b[39mloop)\n\u001b[0;32m-> 2996\u001b[0m \u001b[38;5;28;01mreturn\u001b[39;00m future\u001b[38;5;241m.\u001b[39mresult()\n",
      "File \u001b[0;32m~/anaconda3/lib/python3.11/concurrent/futures/_base.py:451\u001b[0m, in \u001b[0;36mFuture.result\u001b[0;34m(self, timeout)\u001b[0m\n\u001b[1;32m    448\u001b[0m \u001b[38;5;28;01melif\u001b[39;00m \u001b[38;5;28mself\u001b[39m\u001b[38;5;241m.\u001b[39m_state \u001b[38;5;241m==\u001b[39m FINISHED:\n\u001b[1;32m    449\u001b[0m     \u001b[38;5;28;01mreturn\u001b[39;00m \u001b[38;5;28mself\u001b[39m\u001b[38;5;241m.\u001b[39m__get_result()\n\u001b[0;32m--> 451\u001b[0m \u001b[38;5;28mself\u001b[39m\u001b[38;5;241m.\u001b[39m_condition\u001b[38;5;241m.\u001b[39mwait(timeout)\n\u001b[1;32m    453\u001b[0m \u001b[38;5;28;01mif\u001b[39;00m \u001b[38;5;28mself\u001b[39m\u001b[38;5;241m.\u001b[39m_state \u001b[38;5;129;01min\u001b[39;00m [CANCELLED, CANCELLED_AND_NOTIFIED]:\n\u001b[1;32m    454\u001b[0m     \u001b[38;5;28;01mraise\u001b[39;00m CancelledError()\n",
      "File \u001b[0;32m~/anaconda3/lib/python3.11/threading.py:320\u001b[0m, in \u001b[0;36mCondition.wait\u001b[0;34m(self, timeout)\u001b[0m\n\u001b[1;32m    318\u001b[0m \u001b[38;5;28;01mtry\u001b[39;00m:    \u001b[38;5;66;03m# restore state no matter what (e.g., KeyboardInterrupt)\u001b[39;00m\n\u001b[1;32m    319\u001b[0m     \u001b[38;5;28;01mif\u001b[39;00m timeout \u001b[38;5;129;01mis\u001b[39;00m \u001b[38;5;28;01mNone\u001b[39;00m:\n\u001b[0;32m--> 320\u001b[0m         waiter\u001b[38;5;241m.\u001b[39macquire()\n\u001b[1;32m    321\u001b[0m         gotit \u001b[38;5;241m=\u001b[39m \u001b[38;5;28;01mTrue\u001b[39;00m\n\u001b[1;32m    322\u001b[0m     \u001b[38;5;28;01melse\u001b[39;00m:\n",
      "\u001b[0;31mKeyboardInterrupt\u001b[0m: "
     ]
    }
   ],
   "source": [
    "def get_top_moves(fen, top_x=5, depth=12):\n",
    "    \"\"\"\n",
    "    Get the top X moves for a given FEN position using Stockfish.\n",
    "    \n",
    "    Parameters:\n",
    "    fen (str): FEN string representing the chess position.\n",
    "    top_x (int): Number of top moves to retrieve.\n",
    "    depth (int): Depth of the search (higher means more accuracy but slower).\n",
    "    \n",
    "    Returns:\n",
    "    list: List of top X moves in UCI format.\n",
    "    \"\"\"\n",
    "    board = chess.Board(fen)\n",
    "    result = engine.analyse(board, chess.engine.Limit(depth=depth), multipv=top_x)\n",
    "\n",
    "    top_moves = []\n",
    "    for entry in result:\n",
    "        move = entry[\"pv\"][0]  \n",
    "        top_moves.append(move.uci()) \n",
    "    \n",
    "    return top_moves\n",
    "\n",
    "def create_fen_dataset_from_csv(csv_file, num_positions=200, top_x=5, depth=12):\n",
    "    \"\"\"\n",
    "    Create a dataset of FEN positions and their top X moves from a CSV file.\n",
    "    \n",
    "    Parameters:\n",
    "    csv_file (str): Path to the CSV file containing FEN positions and evaluations.\n",
    "    num_positions (int): Number of positions to process.\n",
    "    top_x (int): Number of top moves to retrieve.\n",
    "    depth (int): Depth of the search.\n",
    "    \n",
    "    Returns:\n",
    "    pd.DataFrame: DataFrame containing FEN positions and their top moves.\n",
    "    \"\"\"\n",
    "    df = pd.read_csv(csv_file)\n",
    "    \n",
    "    fens = df[:num_positions]\n",
    "    fens = fens['FEN'].tolist()\n",
    "    \n",
    "    selected_fens = fens[:num_positions]\n",
    "    \n",
    "    dataset = []\n",
    "    for fen in tqdm(selected_fens, desc=\"Processing FENs\"):\n",
    "        try:\n",
    "            top_moves = get_top_moves(fen, top_x=top_x, depth=depth)\n",
    "            dataset.append({\"fen\": fen, \"top_moves\": top_moves})\n",
    "        except Exception as e:\n",
    "            print(f\"Error processing FEN: {fen}, {e}\")\n",
    "\n",
    "    df_dataset = pd.DataFrame(dataset)\n",
    "    return df_dataset\n",
    "\n",
    "csv_file = \"datasets/chess evaluations/chessData.csv\"  # Path to your CSV file\n",
    "chess_data = create_fen_dataset_from_csv(csv_file, num_positions=200, top_x=5, depth=15)\n",
    "\n",
    "print(chess_data.head())\n",
    "engine.quit()\n"
   ]
  },
  {
   "cell_type": "code",
   "execution_count": null,
   "id": "9785a6e7-9c57-4e2f-94a7-bd36cb5e7108",
   "metadata": {
    "tags": []
   },
   "outputs": [],
   "source": [
    "output_csv_file = 'datasets/top_moves2'\n",
    "chess_data.to_csv(output_csv_file, index=False)\n"
   ]
  },
  {
   "cell_type": "code",
   "execution_count": null,
   "id": "d2e2f901-2181-4b59-a4f8-dc443d0ba624",
   "metadata": {
    "tags": []
   },
   "outputs": [],
   "source": [
    "test1 = pd.read_csv('datasets/top_moves2')\n",
    "test1.head()"
   ]
  },
  {
   "cell_type": "code",
   "execution_count": 4,
   "id": "58cbaba0-151c-4ba9-b35d-48137e0f993a",
   "metadata": {
    "tags": []
   },
   "outputs": [
    {
     "ename": "NameError",
     "evalue": "name 'test1' is not defined",
     "output_type": "error",
     "traceback": [
      "\u001b[0;31m---------------------------------------------------------------------------\u001b[0m",
      "\u001b[0;31mNameError\u001b[0m                                 Traceback (most recent call last)",
      "Cell \u001b[0;32mIn[4], line 1\u001b[0m\n\u001b[0;32m----> 1\u001b[0m testfen \u001b[38;5;241m=\u001b[39m test1[\u001b[38;5;124m'\u001b[39m\u001b[38;5;124mfen\u001b[39m\u001b[38;5;124m'\u001b[39m]\u001b[38;5;241m.\u001b[39miloc[\u001b[38;5;241m99\u001b[39m]\n\u001b[1;32m      2\u001b[0m board \u001b[38;5;241m=\u001b[39m chess\u001b[38;5;241m.\u001b[39mBoard(testfen)\n\u001b[1;32m      3\u001b[0m board\n",
      "\u001b[0;31mNameError\u001b[0m: name 'test1' is not defined"
     ]
    }
   ],
   "source": [
    "testfen = test1['fen'].iloc[99]\n",
    "board = chess.Board(testfen)\n",
    "board"
   ]
  },
  {
   "cell_type": "code",
   "execution_count": 19,
   "id": "b9707e37-92f0-4b59-84ce-636958e410d7",
   "metadata": {
    "tags": []
   },
   "outputs": [],
   "source": [
    "data = data5000\n",
    "all_moves = set()\n",
    "for top_moves in data5000['top_moves']:\n",
    "    moves = eval(top_moves)  \n",
    "move_directory = {move: idx for idx, move in enumerate(all_moves)}\n",
    "data[\"EncodedMoves\"] = data[\"top_moves\"].apply(lambda moves: encode_moves(eval(moves), move_directory))"
   ]
  },
  {
   "cell_type": "code",
   "execution_count": 33,
   "id": "a226c7be-983f-4207-b956-c68a96cb7408",
   "metadata": {},
   "outputs": [
    {
     "name": "stdout",
     "output_type": "stream",
     "text": [
      "Top moves for position 1: [ 335 1317  489 1350  274]\n",
      "Top moves for position 2: [1200 1120  478  932  944]\n",
      "Top moves for position 3: [ 335 1317  489  274 1350]\n",
      "Top moves for position 4: [1200 1120  932  478  944]\n",
      "Top moves for position 5: [1317  335  489  274 1350]\n",
      "Top moves for position 6: [1200 1120  932 1370 1042]\n",
      "Top moves for position 7: [1317  335  489  274 1350]\n",
      "Top moves for position 8: [1200 1120  932  478 1370]\n",
      "Top moves for position 9: [1317  335  489  274 1350]\n",
      "Top moves for position 10: [1200 1120  932  478 1370]\n"
     ]
    }
   ],
   "source": [
    "device = torch.device(\"cuda\" if torch.cuda.is_available() else \"cpu\")\n",
    "net = KnightVisionNN(len(move_directory)).to(device)\n",
    "net.load_state_dict(torch.load('./chess.pth'))\n",
    "net.eval()\n",
    "def predict_top_moves(data, move_directory):\n",
    "    # Dataloader for tensor conversion\n",
    "    dataset = TopMovesDataset(data[:10], move_directory)\n",
    "    dataloader = DataLoader(dataset, batch_size=1, shuffle=False)\n",
    "    \n",
    "    reverse_move_directory = {idx: move for move, idx in move_directory.items()}\n",
    "    \n",
    "    predictions = []\n",
    "    \n",
    "    with torch.no_grad():\n",
    "        for input_tensor, _ in dataloader:\n",
    "            input_tensor = input_tensor.to(device)  \n",
    "            logits = net(input_tensor)  \n",
    "            probabilities = torch.sigmoid(logits)  \n",
    "            top_probabilities, top_indices = torch.topk(probabilities, 5, dim=-1)\n",
    "            top_moves_indices = top_indices.cpu().numpy().flatten()\n",
    "            top_moves = [reverse_move_directory[idx] for idx in top_moves_indices]\n",
    "            predictions.append(top_moves_indices)\n",
    "    \n",
    "    return predictions\n",
    "\n",
    "\n",
    "predicted_top_moves = predict_top_moves(data5000, move_directory)\n",
    "for i, top_moves in enumerate(predicted_top_moves[:10]):\n",
    "    print(f\"Top moves for position {i+1}: {top_moves}\")\n"
   ]
  },
  {
   "cell_type": "code",
   "execution_count": 34,
   "id": "ec87003a-993b-4d26-bcfc-e71434bd5dbf",
   "metadata": {
    "tags": []
   },
   "outputs": [
    {
     "data": {
      "text/html": [
       "<div>\n",
       "<style scoped>\n",
       "    .dataframe tbody tr th:only-of-type {\n",
       "        vertical-align: middle;\n",
       "    }\n",
       "\n",
       "    .dataframe tbody tr th {\n",
       "        vertical-align: top;\n",
       "    }\n",
       "\n",
       "    .dataframe thead th {\n",
       "        text-align: right;\n",
       "    }\n",
       "</style>\n",
       "<table border=\"1\" class=\"dataframe\">\n",
       "  <thead>\n",
       "    <tr style=\"text-align: right;\">\n",
       "      <th></th>\n",
       "      <th>fen</th>\n",
       "      <th>top_moves</th>\n",
       "      <th>EncodedMoves</th>\n",
       "    </tr>\n",
       "  </thead>\n",
       "  <tbody>\n",
       "    <tr>\n",
       "      <th>0</th>\n",
       "      <td>rnbqkbnr/pppppppp/8/8/4P3/8/PPPP1PPP/RNBQKBNR ...</td>\n",
       "      <td>['c7c5', 'e7e6', 'e7e5', 'c7c6', 'b8c6']</td>\n",
       "      <td>[173, 281, 380, 552, 766]</td>\n",
       "    </tr>\n",
       "    <tr>\n",
       "      <th>1</th>\n",
       "      <td>rnbqkbnr/pppp1ppp/4p3/8/4P3/8/PPPP1PPP/RNBQKBN...</td>\n",
       "      <td>['b1c3', 'd2d4', 'g1f3', 'h2h3', 'c2c3']</td>\n",
       "      <td>[1382, 1255, 1353, 38, 388]</td>\n",
       "    </tr>\n",
       "    <tr>\n",
       "      <th>2</th>\n",
       "      <td>rnbqkbnr/pppp1ppp/4p3/8/3PP3/8/PPP2PPP/RNBQKBN...</td>\n",
       "      <td>['d7d5', 'a7a6', 'h7h6', 'b7b6', 'c7c6']</td>\n",
       "      <td>[336, 836, 854, 935, 552]</td>\n",
       "    </tr>\n",
       "    <tr>\n",
       "      <th>3</th>\n",
       "      <td>rnbqkbnr/ppp2ppp/4p3/3p4/3PP3/8/PPP2PPP/RNBQKB...</td>\n",
       "      <td>['b1d2', 'b1c3', 'e4e5', 'e4d5', 'f1b5']</td>\n",
       "      <td>[23, 1382, 1066, 596, 608]</td>\n",
       "    </tr>\n",
       "    <tr>\n",
       "      <th>4</th>\n",
       "      <td>rnbqkbnr/ppp2ppp/4p3/3p4/3PP3/8/PPPN1PPP/R1BQK...</td>\n",
       "      <td>['c7c5', 'f8e7', 'a7a6', 'd5e4', 'b8d7']</td>\n",
       "      <td>[173, 659, 836, 1325, 124]</td>\n",
       "    </tr>\n",
       "  </tbody>\n",
       "</table>\n",
       "</div>"
      ],
      "text/plain": [
       "                                                 fen  \\\n",
       "0  rnbqkbnr/pppppppp/8/8/4P3/8/PPPP1PPP/RNBQKBNR ...   \n",
       "1  rnbqkbnr/pppp1ppp/4p3/8/4P3/8/PPPP1PPP/RNBQKBN...   \n",
       "2  rnbqkbnr/pppp1ppp/4p3/8/3PP3/8/PPP2PPP/RNBQKBN...   \n",
       "3  rnbqkbnr/ppp2ppp/4p3/3p4/3PP3/8/PPP2PPP/RNBQKB...   \n",
       "4  rnbqkbnr/ppp2ppp/4p3/3p4/3PP3/8/PPPN1PPP/R1BQK...   \n",
       "\n",
       "                                  top_moves                 EncodedMoves  \n",
       "0  ['c7c5', 'e7e6', 'e7e5', 'c7c6', 'b8c6']    [173, 281, 380, 552, 766]  \n",
       "1  ['b1c3', 'd2d4', 'g1f3', 'h2h3', 'c2c3']  [1382, 1255, 1353, 38, 388]  \n",
       "2  ['d7d5', 'a7a6', 'h7h6', 'b7b6', 'c7c6']    [336, 836, 854, 935, 552]  \n",
       "3  ['b1d2', 'b1c3', 'e4e5', 'e4d5', 'f1b5']   [23, 1382, 1066, 596, 608]  \n",
       "4  ['c7c5', 'f8e7', 'a7a6', 'd5e4', 'b8d7']   [173, 659, 836, 1325, 124]  "
      ]
     },
     "execution_count": 34,
     "metadata": {},
     "output_type": "execute_result"
    }
   ],
   "source": [
    "data[:10].head()"
   ]
  },
  {
   "cell_type": "code",
   "execution_count": 32,
   "id": "0485cae3-acdd-46af-88c5-dea27323a875",
   "metadata": {
    "tags": []
   },
   "outputs": [
    {
     "name": "stdout",
     "output_type": "stream",
     "text": [
      "FEN: rnbqkbnr/pppppppp/8/8/4P3/8/PPPP1PPP/RNBQKBNR b KQkq - 0 1\n",
      "Predicted moves: ['c3d3', 'f5h4', 'c8c2', 'c6d5', 'f7h5']\n",
      "Actual moves: ['c7c5', 'e7e6', 'e7e5', 'c7c6', 'b8c6']\n",
      "\n",
      "FEN: rnbqkbnr/pppp1ppp/4p3/8/4P3/8/PPPP1PPP/RNBQKBNR w KQkq - 0 2\n",
      "Predicted moves: ['c3d3', 'f5h4', 'c8c2', 'c6d5', 'f7h5']\n",
      "Actual moves: ['b1c3', 'd2d4', 'g1f3', 'h2h3', 'c2c3']\n",
      "\n",
      "FEN: rnbqkbnr/pppp1ppp/4p3/8/3PP3/8/PPP2PPP/RNBQKBNR b KQkq - 0 2\n",
      "Predicted moves: ['c3d3', 'f5h4', 'c8c2', 'c6d5', 'f7h5']\n",
      "Actual moves: ['d7d5', 'a7a6', 'h7h6', 'b7b6', 'c7c6']\n",
      "\n",
      "FEN: rnbqkbnr/ppp2ppp/4p3/3p4/3PP3/8/PPP2PPP/RNBQKBNR w KQkq - 0 3\n",
      "Predicted moves: ['c3d3', 'f5h4', 'c8c2', 'c6d5', 'f7h5']\n",
      "Actual moves: ['b1d2', 'b1c3', 'e4e5', 'e4d5', 'f1b5']\n",
      "\n",
      "FEN: rnbqkbnr/ppp2ppp/4p3/3p4/3PP3/8/PPPN1PPP/R1BQKBNR b KQkq - 1 3\n",
      "Predicted moves: ['c3d3', 'f5h4', 'c8c2', 'c6d5', 'f7h5']\n",
      "Actual moves: ['c7c5', 'f8e7', 'a7a6', 'd5e4', 'b8d7']\n",
      "\n"
     ]
    }
   ],
   "source": [
    "def decode_indices(indices, move_directory):\n",
    "    inverse_move_directory = {v: k for k, v in move_directory.items()}\n",
    "    return [inverse_move_directory.get(index, 'Unknown Move') for index in indices]\n",
    "\n",
    "def test(model, data1, move_directory, device):\n",
    "    model.eval()\n",
    "    for idx, row in data1.iterrows():\n",
    "        fen_position = row['fen']\n",
    "        encoded_moves = row['top_moves']\n",
    "    \n",
    "        dataset = TopMovesDataset(data1, move_directory)\n",
    "        dataloader = DataLoader(dataset, batch_size=1, shuffle=False)\n",
    "        \n",
    "        with torch.no_grad():\n",
    "            for input_tensor, _ in dataloader:\n",
    "                logits = model(input_tensor)\n",
    "                top_probabilities, top_indices = torch.topk(logits, 5, dim=-1)\n",
    "        \n",
    "\n",
    "        predicted_moves = decode_indices(top_indices.cpu().numpy().flatten(), move_directory)\n",
    "        print(f\"FEN: {fen_position}\")\n",
    "        print(f\"Predicted moves: {predicted_moves}\")\n",
    "        print(f\"Actual moves: {encoded_moves}\")\n",
    "        print(\"\")\n",
    "test(net, data[:5], move_directory, device)\n"
   ]
  },
  {
   "cell_type": "code",
   "execution_count": null,
   "id": "64787661-4d60-454e-b663-98e594eb33c5",
   "metadata": {},
   "outputs": [],
   "source": []
  }
 ],
 "metadata": {
  "kernelspec": {
   "display_name": "Python 3 (ipykernel)",
   "language": "python",
   "name": "python3"
  },
  "language_info": {
   "codemirror_mode": {
    "name": "ipython",
    "version": 3
   },
   "file_extension": ".py",
   "mimetype": "text/x-python",
   "name": "python",
   "nbconvert_exporter": "python",
   "pygments_lexer": "ipython3",
   "version": "3.11.5"
  }
 },
 "nbformat": 4,
 "nbformat_minor": 5
}
